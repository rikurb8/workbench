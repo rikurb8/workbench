{
  "cells": [
    {
      "cell_type": "markdown",
      "metadata": {
        "id": "view-in-github",
        "colab_type": "text"
      },
      "source": [
        "<a href=\"https://colab.research.google.com/github/rikurb8/workbench/blob/main/backend/dalle_playground_backend.ipynb\" target=\"_parent\"><img src=\"https://colab.research.google.com/assets/colab-badge.svg\" alt=\"Open In Colab\"/></a>"
      ]
    },
    {
      "cell_type": "markdown",
      "metadata": {
        "id": "118UKH5bWCGa"
      },
      "source": [
        "<center><img src=\"https://em-content.zobj.net/thumbs/240/apple/325/artist_1f9d1-200d-1f3a8.png\" width=\"120\">\n",
        "</center>\n",
        "\n",
        "### <center>Use this notebook to run your text-to-image server</center>\n",
        "### <center> [DALL-E Playground Repository](https://github.com/saharmor/dalle-playground) </center>"
      ]
    },
    {
      "cell_type": "markdown",
      "metadata": {
        "id": "dS8LbaonYm3a"
      },
      "source": [
        "## Install dependencies"
      ]
    },
    {
      "cell_type": "code",
      "execution_count": 4,
      "metadata": {
        "id": "MyO_o-lTQn2A",
        "outputId": "8f052edd-ad19-47eb-b4ca-d54a4d0a4cc0",
        "colab": {
          "base_uri": "https://localhost:8080/"
        }
      },
      "outputs": [
        {
          "output_type": "stream",
          "name": "stdout",
          "text": [
            "fatal: destination path 'dalle-playground' already exists and is not an empty directory.\n",
            "Requirement already satisfied: Flask==2.1.0 in /usr/local/lib/python3.10/dist-packages (from -r dalle-playground/backend/requirements.txt (line 1)) (2.1.0)\n",
            "Requirement already satisfied: Flask-Cors==3.0.9 in /usr/local/lib/python3.10/dist-packages (from -r dalle-playground/backend/requirements.txt (line 2)) (3.0.9)\n",
            "Requirement already satisfied: Flask-RESTful==0.3.8 in /usr/local/lib/python3.10/dist-packages (from -r dalle-playground/backend/requirements.txt (line 3)) (0.3.8)\n",
            "Requirement already satisfied: flax==0.5.0 in /usr/local/lib/python3.10/dist-packages (from -r dalle-playground/backend/requirements.txt (line 4)) (0.5.0)\n",
            "Requirement already satisfied: tqdm in /usr/local/lib/python3.10/dist-packages (from -r dalle-playground/backend/requirements.txt (line 5)) (4.66.5)\n",
            "Requirement already satisfied: flask_cloudflared in /usr/local/lib/python3.10/dist-packages (from -r dalle-playground/backend/requirements.txt (line 6)) (0.0.14)\n",
            "Requirement already satisfied: accelerate in /usr/local/lib/python3.10/dist-packages (from -r dalle-playground/backend/requirements.txt (line 7)) (0.34.2)\n",
            "Requirement already satisfied: transformers in /usr/local/lib/python3.10/dist-packages (from -r dalle-playground/backend/requirements.txt (line 8)) (4.44.2)\n",
            "Requirement already satisfied: diffusers in /usr/local/lib/python3.10/dist-packages (from -r dalle-playground/backend/requirements.txt (line 9)) (0.30.3)\n",
            "Requirement already satisfied: werkzeug==2.2.2 in /usr/local/lib/python3.10/dist-packages (from -r dalle-playground/backend/requirements.txt (line 10)) (2.2.2)\n",
            "Requirement already satisfied: Jinja2>=3.0 in /usr/local/lib/python3.10/dist-packages (from Flask==2.1.0->-r dalle-playground/backend/requirements.txt (line 1)) (3.1.4)\n",
            "Requirement already satisfied: itsdangerous>=2.0 in /usr/local/lib/python3.10/dist-packages (from Flask==2.1.0->-r dalle-playground/backend/requirements.txt (line 1)) (2.2.0)\n",
            "Requirement already satisfied: click>=8.0 in /usr/local/lib/python3.10/dist-packages (from Flask==2.1.0->-r dalle-playground/backend/requirements.txt (line 1)) (8.1.7)\n",
            "Requirement already satisfied: Six in /usr/local/lib/python3.10/dist-packages (from Flask-Cors==3.0.9->-r dalle-playground/backend/requirements.txt (line 2)) (1.16.0)\n",
            "Requirement already satisfied: aniso8601>=0.82 in /usr/local/lib/python3.10/dist-packages (from Flask-RESTful==0.3.8->-r dalle-playground/backend/requirements.txt (line 3)) (9.0.1)\n",
            "Requirement already satisfied: pytz in /usr/local/lib/python3.10/dist-packages (from Flask-RESTful==0.3.8->-r dalle-playground/backend/requirements.txt (line 3)) (2024.2)\n",
            "Requirement already satisfied: numpy>=1.12 in /usr/local/lib/python3.10/dist-packages (from flax==0.5.0->-r dalle-playground/backend/requirements.txt (line 4)) (1.26.4)\n",
            "Requirement already satisfied: jax>=0.3 in /usr/local/lib/python3.10/dist-packages (from flax==0.5.0->-r dalle-playground/backend/requirements.txt (line 4)) (0.4.33)\n",
            "Requirement already satisfied: matplotlib in /usr/local/lib/python3.10/dist-packages (from flax==0.5.0->-r dalle-playground/backend/requirements.txt (line 4)) (3.7.1)\n",
            "Requirement already satisfied: msgpack in /usr/local/lib/python3.10/dist-packages (from flax==0.5.0->-r dalle-playground/backend/requirements.txt (line 4)) (1.1.0)\n",
            "Requirement already satisfied: optax in /usr/local/lib/python3.10/dist-packages (from flax==0.5.0->-r dalle-playground/backend/requirements.txt (line 4)) (0.2.3)\n",
            "Requirement already satisfied: typing-extensions>=4.1.1 in /usr/local/lib/python3.10/dist-packages (from flax==0.5.0->-r dalle-playground/backend/requirements.txt (line 4)) (4.12.2)\n",
            "Requirement already satisfied: MarkupSafe>=2.1.1 in /usr/local/lib/python3.10/dist-packages (from werkzeug==2.2.2->-r dalle-playground/backend/requirements.txt (line 10)) (3.0.1)\n",
            "Requirement already satisfied: requests in /usr/local/lib/python3.10/dist-packages (from flask_cloudflared->-r dalle-playground/backend/requirements.txt (line 6)) (2.32.3)\n",
            "Requirement already satisfied: packaging>=20.0 in /usr/local/lib/python3.10/dist-packages (from accelerate->-r dalle-playground/backend/requirements.txt (line 7)) (24.1)\n",
            "Requirement already satisfied: psutil in /usr/local/lib/python3.10/dist-packages (from accelerate->-r dalle-playground/backend/requirements.txt (line 7)) (5.9.5)\n",
            "Requirement already satisfied: pyyaml in /usr/local/lib/python3.10/dist-packages (from accelerate->-r dalle-playground/backend/requirements.txt (line 7)) (6.0.2)\n",
            "Requirement already satisfied: torch>=1.10.0 in /usr/local/lib/python3.10/dist-packages (from accelerate->-r dalle-playground/backend/requirements.txt (line 7)) (2.4.1+cu121)\n",
            "Requirement already satisfied: huggingface-hub>=0.21.0 in /usr/local/lib/python3.10/dist-packages (from accelerate->-r dalle-playground/backend/requirements.txt (line 7)) (0.24.7)\n",
            "Requirement already satisfied: safetensors>=0.4.3 in /usr/local/lib/python3.10/dist-packages (from accelerate->-r dalle-playground/backend/requirements.txt (line 7)) (0.4.5)\n",
            "Requirement already satisfied: filelock in /usr/local/lib/python3.10/dist-packages (from transformers->-r dalle-playground/backend/requirements.txt (line 8)) (3.16.1)\n",
            "Requirement already satisfied: regex!=2019.12.17 in /usr/local/lib/python3.10/dist-packages (from transformers->-r dalle-playground/backend/requirements.txt (line 8)) (2024.9.11)\n",
            "Requirement already satisfied: tokenizers<0.20,>=0.19 in /usr/local/lib/python3.10/dist-packages (from transformers->-r dalle-playground/backend/requirements.txt (line 8)) (0.19.1)\n",
            "Requirement already satisfied: importlib-metadata in /usr/local/lib/python3.10/dist-packages (from diffusers->-r dalle-playground/backend/requirements.txt (line 9)) (8.5.0)\n",
            "Requirement already satisfied: Pillow in /usr/local/lib/python3.10/dist-packages (from diffusers->-r dalle-playground/backend/requirements.txt (line 9)) (10.4.0)\n",
            "Requirement already satisfied: fsspec>=2023.5.0 in /usr/local/lib/python3.10/dist-packages (from huggingface-hub>=0.21.0->accelerate->-r dalle-playground/backend/requirements.txt (line 7)) (2024.6.1)\n",
            "Requirement already satisfied: jaxlib<=0.4.33,>=0.4.33 in /usr/local/lib/python3.10/dist-packages (from jax>=0.3->flax==0.5.0->-r dalle-playground/backend/requirements.txt (line 4)) (0.4.33)\n",
            "Requirement already satisfied: ml-dtypes>=0.2.0 in /usr/local/lib/python3.10/dist-packages (from jax>=0.3->flax==0.5.0->-r dalle-playground/backend/requirements.txt (line 4)) (0.4.1)\n",
            "Requirement already satisfied: opt-einsum in /usr/local/lib/python3.10/dist-packages (from jax>=0.3->flax==0.5.0->-r dalle-playground/backend/requirements.txt (line 4)) (3.4.0)\n",
            "Requirement already satisfied: scipy>=1.10 in /usr/local/lib/python3.10/dist-packages (from jax>=0.3->flax==0.5.0->-r dalle-playground/backend/requirements.txt (line 4)) (1.13.1)\n",
            "Requirement already satisfied: sympy in /usr/local/lib/python3.10/dist-packages (from torch>=1.10.0->accelerate->-r dalle-playground/backend/requirements.txt (line 7)) (1.13.3)\n",
            "Requirement already satisfied: networkx in /usr/local/lib/python3.10/dist-packages (from torch>=1.10.0->accelerate->-r dalle-playground/backend/requirements.txt (line 7)) (3.4.1)\n",
            "Requirement already satisfied: zipp>=3.20 in /usr/local/lib/python3.10/dist-packages (from importlib-metadata->diffusers->-r dalle-playground/backend/requirements.txt (line 9)) (3.20.2)\n",
            "Requirement already satisfied: contourpy>=1.0.1 in /usr/local/lib/python3.10/dist-packages (from matplotlib->flax==0.5.0->-r dalle-playground/backend/requirements.txt (line 4)) (1.3.0)\n",
            "Requirement already satisfied: cycler>=0.10 in /usr/local/lib/python3.10/dist-packages (from matplotlib->flax==0.5.0->-r dalle-playground/backend/requirements.txt (line 4)) (0.12.1)\n",
            "Requirement already satisfied: fonttools>=4.22.0 in /usr/local/lib/python3.10/dist-packages (from matplotlib->flax==0.5.0->-r dalle-playground/backend/requirements.txt (line 4)) (4.54.1)\n",
            "Requirement already satisfied: kiwisolver>=1.0.1 in /usr/local/lib/python3.10/dist-packages (from matplotlib->flax==0.5.0->-r dalle-playground/backend/requirements.txt (line 4)) (1.4.7)\n",
            "Requirement already satisfied: pyparsing>=2.3.1 in /usr/local/lib/python3.10/dist-packages (from matplotlib->flax==0.5.0->-r dalle-playground/backend/requirements.txt (line 4)) (3.2.0)\n",
            "Requirement already satisfied: python-dateutil>=2.7 in /usr/local/lib/python3.10/dist-packages (from matplotlib->flax==0.5.0->-r dalle-playground/backend/requirements.txt (line 4)) (2.8.2)\n",
            "Requirement already satisfied: absl-py>=0.7.1 in /usr/local/lib/python3.10/dist-packages (from optax->flax==0.5.0->-r dalle-playground/backend/requirements.txt (line 4)) (1.4.0)\n",
            "Requirement already satisfied: chex>=0.1.86 in /usr/local/lib/python3.10/dist-packages (from optax->flax==0.5.0->-r dalle-playground/backend/requirements.txt (line 4)) (0.1.87)\n",
            "Requirement already satisfied: etils[epy] in /usr/local/lib/python3.10/dist-packages (from optax->flax==0.5.0->-r dalle-playground/backend/requirements.txt (line 4)) (1.9.4)\n",
            "Requirement already satisfied: charset-normalizer<4,>=2 in /usr/local/lib/python3.10/dist-packages (from requests->flask_cloudflared->-r dalle-playground/backend/requirements.txt (line 6)) (3.4.0)\n",
            "Requirement already satisfied: idna<4,>=2.5 in /usr/local/lib/python3.10/dist-packages (from requests->flask_cloudflared->-r dalle-playground/backend/requirements.txt (line 6)) (3.10)\n",
            "Requirement already satisfied: urllib3<3,>=1.21.1 in /usr/local/lib/python3.10/dist-packages (from requests->flask_cloudflared->-r dalle-playground/backend/requirements.txt (line 6)) (2.2.3)\n",
            "Requirement already satisfied: certifi>=2017.4.17 in /usr/local/lib/python3.10/dist-packages (from requests->flask_cloudflared->-r dalle-playground/backend/requirements.txt (line 6)) (2024.8.30)\n",
            "Requirement already satisfied: toolz>=0.9.0 in /usr/local/lib/python3.10/dist-packages (from chex>=0.1.86->optax->flax==0.5.0->-r dalle-playground/backend/requirements.txt (line 4)) (0.12.1)\n",
            "Requirement already satisfied: mpmath<1.4,>=1.1.0 in /usr/local/lib/python3.10/dist-packages (from sympy->torch>=1.10.0->accelerate->-r dalle-playground/backend/requirements.txt (line 7)) (1.3.0)\n",
            "Requirement already satisfied: diffusers[torch] in /usr/local/lib/python3.10/dist-packages (0.30.3)\n",
            "Requirement already satisfied: importlib-metadata in /usr/local/lib/python3.10/dist-packages (from diffusers[torch]) (8.5.0)\n",
            "Requirement already satisfied: filelock in /usr/local/lib/python3.10/dist-packages (from diffusers[torch]) (3.16.1)\n",
            "Requirement already satisfied: huggingface-hub>=0.23.2 in /usr/local/lib/python3.10/dist-packages (from diffusers[torch]) (0.24.7)\n",
            "Requirement already satisfied: numpy in /usr/local/lib/python3.10/dist-packages (from diffusers[torch]) (1.26.4)\n",
            "Requirement already satisfied: regex!=2019.12.17 in /usr/local/lib/python3.10/dist-packages (from diffusers[torch]) (2024.9.11)\n",
            "Requirement already satisfied: requests in /usr/local/lib/python3.10/dist-packages (from diffusers[torch]) (2.32.3)\n",
            "Requirement already satisfied: safetensors>=0.3.1 in /usr/local/lib/python3.10/dist-packages (from diffusers[torch]) (0.4.5)\n",
            "Requirement already satisfied: Pillow in /usr/local/lib/python3.10/dist-packages (from diffusers[torch]) (10.4.0)\n",
            "Requirement already satisfied: torch>=1.4 in /usr/local/lib/python3.10/dist-packages (from diffusers[torch]) (2.4.1+cu121)\n",
            "Requirement already satisfied: accelerate>=0.31.0 in /usr/local/lib/python3.10/dist-packages (from diffusers[torch]) (0.34.2)\n",
            "Requirement already satisfied: packaging>=20.0 in /usr/local/lib/python3.10/dist-packages (from accelerate>=0.31.0->diffusers[torch]) (24.1)\n",
            "Requirement already satisfied: psutil in /usr/local/lib/python3.10/dist-packages (from accelerate>=0.31.0->diffusers[torch]) (5.9.5)\n",
            "Requirement already satisfied: pyyaml in /usr/local/lib/python3.10/dist-packages (from accelerate>=0.31.0->diffusers[torch]) (6.0.2)\n",
            "Requirement already satisfied: fsspec>=2023.5.0 in /usr/local/lib/python3.10/dist-packages (from huggingface-hub>=0.23.2->diffusers[torch]) (2024.6.1)\n",
            "Requirement already satisfied: tqdm>=4.42.1 in /usr/local/lib/python3.10/dist-packages (from huggingface-hub>=0.23.2->diffusers[torch]) (4.66.5)\n",
            "Requirement already satisfied: typing-extensions>=3.7.4.3 in /usr/local/lib/python3.10/dist-packages (from huggingface-hub>=0.23.2->diffusers[torch]) (4.12.2)\n",
            "Requirement already satisfied: sympy in /usr/local/lib/python3.10/dist-packages (from torch>=1.4->diffusers[torch]) (1.13.3)\n",
            "Requirement already satisfied: networkx in /usr/local/lib/python3.10/dist-packages (from torch>=1.4->diffusers[torch]) (3.4.1)\n",
            "Requirement already satisfied: jinja2 in /usr/local/lib/python3.10/dist-packages (from torch>=1.4->diffusers[torch]) (3.1.4)\n",
            "Requirement already satisfied: zipp>=3.20 in /usr/local/lib/python3.10/dist-packages (from importlib-metadata->diffusers[torch]) (3.20.2)\n",
            "Requirement already satisfied: charset-normalizer<4,>=2 in /usr/local/lib/python3.10/dist-packages (from requests->diffusers[torch]) (3.4.0)\n",
            "Requirement already satisfied: idna<4,>=2.5 in /usr/local/lib/python3.10/dist-packages (from requests->diffusers[torch]) (3.10)\n",
            "Requirement already satisfied: urllib3<3,>=1.21.1 in /usr/local/lib/python3.10/dist-packages (from requests->diffusers[torch]) (2.2.3)\n",
            "Requirement already satisfied: certifi>=2017.4.17 in /usr/local/lib/python3.10/dist-packages (from requests->diffusers[torch]) (2024.8.30)\n",
            "Requirement already satisfied: MarkupSafe>=2.0 in /usr/local/lib/python3.10/dist-packages (from jinja2->torch>=1.4->diffusers[torch]) (3.0.1)\n",
            "Requirement already satisfied: mpmath<1.4,>=1.1.0 in /usr/local/lib/python3.10/dist-packages (from sympy->torch>=1.4->diffusers[torch]) (1.3.0)\n"
          ]
        }
      ],
      "source": [
        "!git clone https://github.com/saharmor/dalle-playground.git\n",
        "!pip install -r dalle-playground/backend/requirements.txt\n",
        "!pip install diffusers[\"torch\"]"
      ]
    },
    {
      "cell_type": "markdown",
      "metadata": {
        "id": "sqF_iNGmmVIC"
      },
      "source": [
        "# Run the backend web server"
      ]
    },
    {
      "cell_type": "code",
      "execution_count": 6,
      "metadata": {
        "id": "qrRYWN7qTioY",
        "outputId": "0f97b467-6de5-49d4-eae8-01738c73a702",
        "colab": {
          "base_uri": "https://localhost:8080/"
        }
      },
      "outputs": [
        {
          "output_type": "stream",
          "name": "stderr",
          "text": [
            "<ipython-input-6-fdfb929e2844>:26: DeprecationWarning: setDaemon() is deprecated, set the daemon attribute instead\n",
            "  new_thread.setDaemon(True)\n"
          ]
        },
        {
          "output_type": "stream",
          "name": "stdout",
          "text": [
            "Your url is: https://pupils-indiana-spaces-pmid.trycloudflare.com\n",
            "2024-10-21 20:49:33.283270: E external/local_xla/xla/stream_executor/cuda/cuda_fft.cc:485] Unable to register cuFFT factory: Attempting to register factory for plugin cuFFT when one has already been registered\n",
            "2024-10-21 20:49:33.303892: E external/local_xla/xla/stream_executor/cuda/cuda_dnn.cc:8454] Unable to register cuDNN factory: Attempting to register factory for plugin cuDNN when one has already been registered\n",
            "2024-10-21 20:49:33.310557: E external/local_xla/xla/stream_executor/cuda/cuda_blas.cc:1452] Unable to register cuBLAS factory: Attempting to register factory for plugin cuBLAS when one has already been registered\n",
            "2024-10-21 20:49:33.325842: I tensorflow/core/platform/cpu_feature_guard.cc:210] This TensorFlow binary is optimized to use available CPU instructions in performance-critical operations.\n",
            "To enable the following instructions: AVX2 FMA, in other operations, rebuild TensorFlow with the appropriate compiler flags.\n",
            "2024-10-21 20:49:34.520210: W tensorflow/compiler/tf2tensorrt/utils/py_utils.cc:38] TF-TRT Warning: Could not find TensorRT\n",
            "Traceback (most recent call last):\n",
            "  File \"/usr/local/lib/python3.10/dist-packages/diffusers/utils/import_utils.py\", line 830, in _get_module\n",
            "    return importlib.import_module(\".\" + module_name, self.__name__)\n",
            "  File \"/usr/lib/python3.10/importlib/__init__.py\", line 126, in import_module\n",
            "    return _bootstrap._gcd_import(name[level:], package, level)\n",
            "  File \"<frozen importlib._bootstrap>\", line 1050, in _gcd_import\n",
            "  File \"<frozen importlib._bootstrap>\", line 1027, in _find_and_load\n",
            "  File \"<frozen importlib._bootstrap>\", line 992, in _find_and_load_unlocked\n",
            "  File \"<frozen importlib._bootstrap>\", line 241, in _call_with_frames_removed\n",
            "  File \"<frozen importlib._bootstrap>\", line 1050, in _gcd_import\n",
            "  File \"<frozen importlib._bootstrap>\", line 1027, in _find_and_load\n",
            "  File \"<frozen importlib._bootstrap>\", line 1006, in _find_and_load_unlocked\n",
            "  File \"<frozen importlib._bootstrap>\", line 688, in _load_unlocked\n",
            "  File \"<frozen importlib._bootstrap_external>\", line 883, in exec_module\n",
            "  File \"<frozen importlib._bootstrap>\", line 241, in _call_with_frames_removed\n",
            "  File \"/usr/local/lib/python3.10/dist-packages/diffusers/models/autoencoders/__init__.py\", line 1, in <module>\n",
            "    from .autoencoder_asym_kl import AsymmetricAutoencoderKL\n",
            "  File \"/usr/local/lib/python3.10/dist-packages/diffusers/models/autoencoders/autoencoder_asym_kl.py\", line 23, in <module>\n",
            "    from .vae import DecoderOutput, DiagonalGaussianDistribution, Encoder, MaskConditionDecoder\n",
            "  File \"/usr/local/lib/python3.10/dist-packages/diffusers/models/autoencoders/vae.py\", line 25, in <module>\n",
            "    from ..unets.unet_2d_blocks import (\n",
            "  File \"/usr/local/lib/python3.10/dist-packages/diffusers/models/unets/__init__.py\", line 18, in <module>\n",
            "    from .unet_2d_condition_flax import FlaxUNet2DConditionModel\n",
            "  File \"/usr/local/lib/python3.10/dist-packages/diffusers/models/unets/unet_2d_condition_flax.py\", line 16, in <module>\n",
            "    import flax\n",
            "  File \"/usr/local/lib/python3.10/dist-packages/flax/__init__.py\", line 18, in <module>\n",
            "    from . import core as core\n",
            "  File \"/usr/local/lib/python3.10/dist-packages/flax/core/__init__.py\", line 15, in <module>\n",
            "    from .axes_scan import broadcast as broadcast\n",
            "  File \"/usr/local/lib/python3.10/dist-packages/flax/core/axes_scan.py\", line 21, in <module>\n",
            "    from jax import linear_util as lu\n",
            "ImportError: cannot import name 'linear_util' from 'jax' (/usr/local/lib/python3.10/dist-packages/jax/__init__.py)\n",
            "\n",
            "The above exception was the direct cause of the following exception:\n",
            "\n",
            "Traceback (most recent call last):\n",
            "  File \"/usr/local/lib/python3.10/dist-packages/diffusers/utils/import_utils.py\", line 830, in _get_module\n",
            "    return importlib.import_module(\".\" + module_name, self.__name__)\n",
            "  File \"/usr/lib/python3.10/importlib/__init__.py\", line 126, in import_module\n",
            "    return _bootstrap._gcd_import(name[level:], package, level)\n",
            "  File \"<frozen importlib._bootstrap>\", line 1050, in _gcd_import\n",
            "  File \"<frozen importlib._bootstrap>\", line 1027, in _find_and_load\n",
            "  File \"<frozen importlib._bootstrap>\", line 1006, in _find_and_load_unlocked\n",
            "  File \"<frozen importlib._bootstrap>\", line 688, in _load_unlocked\n",
            "  File \"<frozen importlib._bootstrap_external>\", line 883, in exec_module\n",
            "  File \"<frozen importlib._bootstrap>\", line 241, in _call_with_frames_removed\n",
            "  File \"/usr/local/lib/python3.10/dist-packages/diffusers/pipelines/pipeline_utils.py\", line 44, in <module>\n",
            "    from ..models import AutoencoderKL\n",
            "  File \"<frozen importlib._bootstrap>\", line 1075, in _handle_fromlist\n",
            "  File \"/usr/local/lib/python3.10/dist-packages/diffusers/utils/import_utils.py\", line 820, in __getattr__\n",
            "    module = self._get_module(self._class_to_module[name])\n",
            "  File \"/usr/local/lib/python3.10/dist-packages/diffusers/utils/import_utils.py\", line 832, in _get_module\n",
            "    raise RuntimeError(\n",
            "RuntimeError: Failed to import diffusers.models.autoencoders.autoencoder_kl because of the following error (look up to see its traceback):\n",
            "cannot import name 'linear_util' from 'jax' (/usr/local/lib/python3.10/dist-packages/jax/__init__.py)\n",
            "\n",
            "The above exception was the direct cause of the following exception:\n",
            "\n",
            "Traceback (most recent call last):\n",
            "  File \"/content/dalle-playground/backend/app.py\", line 10, in <module>\n",
            "    from stable_diffusion_wrapper import StableDiffusionWrapper\n",
            "  File \"/content/dalle-playground/backend/stable_diffusion_wrapper.py\", line 1, in <module>\n",
            "    from diffusers import DiffusionPipeline, DPMSolverMultistepScheduler\n",
            "  File \"<frozen importlib._bootstrap>\", line 1075, in _handle_fromlist\n",
            "  File \"/usr/local/lib/python3.10/dist-packages/diffusers/utils/import_utils.py\", line 821, in __getattr__\n",
            "    value = getattr(module, name)\n",
            "  File \"/usr/local/lib/python3.10/dist-packages/diffusers/utils/import_utils.py\", line 820, in __getattr__\n",
            "    module = self._get_module(self._class_to_module[name])\n",
            "  File \"/usr/local/lib/python3.10/dist-packages/diffusers/utils/import_utils.py\", line 832, in _get_module\n",
            "    raise RuntimeError(\n",
            "RuntimeError: Failed to import diffusers.pipelines.pipeline_utils because of the following error (look up to see its traceback):\n",
            "Failed to import diffusers.models.autoencoders.autoencoder_kl because of the following error (look up to see its traceback):\n",
            "cannot import name 'linear_util' from 'jax' (/usr/local/lib/python3.10/dist-packages/jax/__init__.py)\n"
          ]
        }
      ],
      "source": [
        "from threading import Thread, Event\n",
        "\n",
        "app_port = 8000\n",
        "announce_url = None\n",
        "cloudflared_startup = Event()\n",
        "\n",
        "def update_announce_url(url):\n",
        "    global announce_url\n",
        "    announce_url = url\n",
        "\n",
        "def start_cloudflared(port):\n",
        "  from flask_cloudflared import _run_cloudflared\n",
        "  try:\n",
        "    announce_url = _run_cloudflared(port, 8888)\n",
        "  except:\n",
        "    raise\n",
        "  finally:\n",
        "    update_announce_url(announce_url)\n",
        "    cloudflared_startup.set()\n",
        "\n",
        "def run_with_cloudflared(thread):\n",
        "    old_run = thread.run\n",
        "\n",
        "    def new_run(*args, **kwargs):\n",
        "        new_thread = Thread(target = start_cloudflared, args=(app_port, ))\n",
        "        new_thread.setDaemon(True)\n",
        "        new_thread.start()\n",
        "        old_run(*args, **kwargs)\n",
        "\n",
        "    thread.run = new_run\n",
        "\n",
        "def app():\n",
        "  !python dalle-playground/backend/app.py --port {app_port} --save_to_disk true --img_format jpeg --output_dir generations\n",
        "\n",
        "if __name__ == '__main__':\n",
        "    t1 = Thread(target = app)\n",
        "    run_with_cloudflared(t1)\n",
        "    t1.start()\n",
        "    cloudflared_startup.wait()\n",
        "    print(f\"Your url is: {announce_url}\")\n",
        "    t1.join()"
      ]
    },
    {
      "cell_type": "markdown",
      "metadata": {
        "id": "UPhc5fgqT_Q0"
      },
      "source": [
        "### Now, take the url you got from cloudflare (should look like `your url is: https://xxxxxx.trycloudflare.com`), replace it within the url here https://saharmor.github.io/dalle-playground/?backendUrl=https://xxxxxx.trycloudflare.com and run it in the browser.\n",
        "\n",
        "### Let the fun begin ✨"
      ]
    }
  ],
  "metadata": {
    "accelerator": "GPU",
    "colab": {
      "provenance": [],
      "gpuType": "T4",
      "include_colab_link": true
    },
    "kernelspec": {
      "display_name": "Python 3",
      "name": "python3"
    },
    "language_info": {
      "name": "python"
    }
  },
  "nbformat": 4,
  "nbformat_minor": 0
}